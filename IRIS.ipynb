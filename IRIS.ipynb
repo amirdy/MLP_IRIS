{
  "nbformat": 4,
  "nbformat_minor": 0,
  "metadata": {
    "colab": {
      "name": "Copy of Untitled8.ipynb",
      "version": "0.3.2",
      "provenance": [],
      "collapsed_sections": []
    },
    "kernelspec": {
      "name": "python3",
      "display_name": "Python 3"
    }
  },
  "cells": [
    {
      "cell_type": "code",
      "metadata": {
        "id": "GXQ8qZ0qekh4",
        "colab_type": "code",
        "colab": {}
      },
      "source": [
        "#import packages\n",
        "\n",
        "import numpy as np\n",
        "from sklearn import datasets\n",
        "import torch\n",
        "import matplotlib.pyplot as plt\n",
        "\n"
      ],
      "execution_count": 0,
      "outputs": []
    },
    {
      "cell_type": "code",
      "metadata": {
        "id": "nip4Na9He_4x",
        "colab_type": "code",
        "colab": {}
      },
      "source": [
        "# create a network\n",
        "\n",
        "class net(torch.nn.Module):\n",
        "  def  __init__(self,input_size, hi_size1, hi_size2, output_num):\n",
        "    super(net,self).__init__()\n",
        "    self.fc1=torch.nn.Linear(input_size,hi_size1)\n",
        "    self.relu1=torch.nn.ReLU()\n",
        "    self.fc2=torch.nn.Linear(hi_size1,hi_size2)\n",
        "    self.relu2=torch.nn.ReLU()\n",
        "    self.fc3=torch.nn.Linear(hi_size2,output_num)\n",
        "\n",
        "    \n",
        "    \n",
        "  def forward(self,x):\n",
        "    out=self.fc1(x)\n",
        "    out=self.relu1(out)\n",
        "    out=self.fc2(out)\n",
        "    out=self.relu2(out)\n",
        "    out=self.fc3(out)\n",
        "    return out\n",
        "  \n",
        " \n",
        "    "
      ],
      "execution_count": 0,
      "outputs": []
    },
    {
      "cell_type": "code",
      "metadata": {
        "id": "1uZxRbukhkwN",
        "colab_type": "code",
        "colab": {
          "base_uri": "https://localhost:8080/",
          "height": 290
        },
        "outputId": "252e6b84-d0b7-42b0-c0d3-b36709e332df"
      },
      "source": [
        "model=net(4,100,50,3)\n",
        "print(model)\n",
        "\n",
        "#print parameters size\n",
        "print(\"\\nParameters size: \")\n",
        "for param in model.parameters():\n",
        "  print(param.shape)"
      ],
      "execution_count": 380,
      "outputs": [
        {
          "output_type": "stream",
          "text": [
            "net(\n",
            "  (fc1): Linear(in_features=4, out_features=100, bias=True)\n",
            "  (relu1): ReLU()\n",
            "  (fc2): Linear(in_features=100, out_features=50, bias=True)\n",
            "  (relu2): ReLU()\n",
            "  (fc3): Linear(in_features=50, out_features=3, bias=True)\n",
            ")\n",
            "\n",
            "Parameters size: \n",
            "torch.Size([100, 4])\n",
            "torch.Size([100])\n",
            "torch.Size([50, 100])\n",
            "torch.Size([50])\n",
            "torch.Size([3, 50])\n",
            "torch.Size([3])\n"
          ],
          "name": "stdout"
        }
      ]
    },
    {
      "cell_type": "code",
      "metadata": {
        "id": "18Z0G2cFiDTR",
        "colab_type": "code",
        "colab": {}
      },
      "source": [
        "batch_size=60 # number of samples in one batch\n",
        "num_batches=np.ceil(xtr.shape[0]/batch_size) # number of batches\n",
        "\n",
        "criterion=torch.nn.CrossEntropyLoss()\n",
        "optimizer=torch.optim.SGD(model.parameters(),lr=0.01)\n"
      ],
      "execution_count": 0,
      "outputs": []
    },
    {
      "cell_type": "code",
      "metadata": {
        "id": "E8KAkoNLm5VO",
        "colab_type": "code",
        "colab": {}
      },
      "source": [
        "#dataset \n",
        "\n",
        "iris = datasets.load_iris()\n",
        "X = iris.data[:,:]  #  np.array (150,4)\n",
        "y = iris.target     #  np.array (150,)\n",
        "\n",
        "########################number of features is 3\n",
        "\n",
        "y=y.reshape(-1,1)# np.array (120,)\n",
        "Xy=np.concatenate((X,y),axis=1) #  [x,y]:  np.array (120,5)\n",
        "np.random.shuffle(Xy) \n",
        "\n",
        "\n",
        "xtr=Xy[0:120,:4] #xtrain, np.array shape (120,4)\n",
        "xts=Xy[120:,:4]  #xtest,  np.array shape (30,)\n",
        "ytr=Xy[0:120,4]  #ytrain, np.array shape (120,)\n",
        "yts=Xy[120:,4]   #ytest,  np.array shape (30,)\n",
        "\n",
        "yts=yts.reshape(-1,1)  #ytrain, shape (30,1)\n",
        "ytr=ytr.reshape(-1,1)  #ytest,  shape (120,1)\n",
        "\n",
        "xyTrain=np.concatenate((xtr,ytr),axis=1)# [x,y] , shape=(120,5)\n"
      ],
      "execution_count": 0,
      "outputs": []
    },
    {
      "cell_type": "code",
      "metadata": {
        "id": "qlklnnrtY_fN",
        "colab_type": "code",
        "colab": {}
      },
      "source": [
        "#creating batches\n",
        "\n",
        "def shuffle_getBatch(xy):\n",
        "  \n",
        "  np.random.shuffle(xy)  #shuffling train data \n",
        "  shuffled_xtr=xy[:,:4]\n",
        "  shuffled_ytr=xy[:,4]\n",
        "\n",
        "  xbatches=np.split(shuffled_xtr[:int((num_batches-1)*batch_size),:],num_batches-1) # creating num_batches-1 batches with lenght batch_size  for X\n",
        "  ybatches=np.split(shuffled_ytr[:int((num_batches-1)*batch_size)],num_batches-1)   # creating num_batches-1 batches with lenght batch_size  for y\n",
        "  \n",
        "  \n",
        "  lastXbatch=xy[int((num_batches-1)*batch_size):,:4] # create the last batch for X \n",
        "  lastYbatch=xy[int((num_batches-1)*batch_size):,4]  # create the last batch for y \n",
        "  \n",
        "  xbatches.append(lastXbatch)\n",
        "  ybatches.append(lastYbatch)\n",
        "\n",
        "  \n",
        "  return xbatches,ybatches"
      ],
      "execution_count": 0,
      "outputs": []
    },
    {
      "cell_type": "code",
      "metadata": {
        "id": "538Y81afbOMO",
        "colab_type": "code",
        "colab": {}
      },
      "source": [
        "# calculating accuracy\n",
        "\n",
        "def cal_accuracy(pred_classes,real_classes):#  shape -> both : [number of test samples,1]  or both : [number of test samples,]\n",
        "  bool_array=(pred_classes==real_classes) # example: bool_array=[True, False, True, False, True]\n",
        "  True_pred_counts=np.count_nonzero(bool_array) # count number of Trues in [True, False, True, False, True]\n",
        "  \n",
        "  return True_pred_counts/pred_classes.shape[0]"
      ],
      "execution_count": 0,
      "outputs": []
    },
    {
      "cell_type": "code",
      "metadata": {
        "id": "U3t71JnnY1JC",
        "colab_type": "code",
        "colab": {}
      },
      "source": [
        "# Train and test\n",
        "\n",
        "num_epochs=500\n",
        "testacc=[]\n",
        "for i in range(num_epochs):\n",
        "  xbatches,ybatches=shuffle_getBatch(xyTrain)\n",
        "  \n",
        "  for batchNumber,xbatch in enumerate(xbatches):\n",
        "\n",
        "    X=torch.autograd.Variable(torch.FloatTensor(xbatch)) #xbatch: nparray (batchsize,4)  |  X: torch.Size([batchsize, 4])\n",
        "    Y=torch.autograd.Variable(torch.LongTensor(ybatches[batchNumber]))  #ybatches[batchNumber]: nparray (batchsize,)  |  Y: torch.Size([batchsize])\n",
        "    \n",
        "    model.train() \n",
        "    outputs=model(X) #output: torch.Size([batchsize, 3]) | 3 is number of output neurons\n",
        "    loss=criterion(outputs,Y)\n",
        "    optimizer.zero_grad()\n",
        "    loss.backward()\n",
        "    optimizer.step()\n",
        "    \n",
        "\n",
        "    \n",
        "    \n",
        "  ##test at end of each epoch\n",
        "  test_pred=model(torch.FloatTensor(xts)) # xts: np.array (number of test samples,4) | test_pred : torch.Size([number of test samples, 3])\n",
        "  pred_classes=torch.max(test_pred.data, 1)[1]# pred_classes: torch.Size([30])\n",
        "\n",
        "  acc=cal_accuracy(np.array(pred_classes),yts.squeeze()) #yts: nparray (number of test samples,1) \n",
        "  testacc.append(acc*100)\n",
        "  \n"
      ],
      "execution_count": 0,
      "outputs": []
    },
    {
      "cell_type": "code",
      "metadata": {
        "id": "NM87Fj_JdH-s",
        "colab_type": "code",
        "colab": {
          "base_uri": "https://localhost:8080/",
          "height": 514
        },
        "outputId": "1762673a-f622-421f-c98b-ab8956e11d5c"
      },
      "source": [
        "#plotting test accuracy\n",
        "\n",
        "\n",
        "fig = plt.figure(figsize=(12, 8))\n",
        "plt.plot([i for i in range(int(num_epochs))],testacc)\n",
        "plt.title(\"Test Accuracy\")\n",
        "plt.xlabel(\"Epohs\")\n",
        "plt.ylabel(\"accuracy in % \")\n",
        "plt.show()"
      ],
      "execution_count": 386,
      "outputs": [
        {
          "output_type": "display_data",
          "data": {
            "image/png": "[encoded data removed]",
            "text/plain": [
              "<Figure size 864x576 with 1 Axes>"
            ]
          },
          "metadata": {
            "tags": []
          }
        }
      ]
    },
    {
      "cell_type": "code",
      "metadata": {
        "id": "KNg_0PNwF12Q",
        "colab_type": "code",
        "colab": {}
      },
      "source": [
        ""
      ],
      "execution_count": 0,
      "outputs": []
    }
  ]
}